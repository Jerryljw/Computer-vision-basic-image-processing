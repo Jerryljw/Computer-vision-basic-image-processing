{
 "cells": [
  {
   "cell_type": "code",
   "execution_count": 1,
   "id": "65e69f36",
   "metadata": {},
   "outputs": [],
   "source": [
    "import keras\n",
    "import os\n",
    "from keras.models import Sequential\n",
    "from keras.layers import Dense, Dropout, Dense, Input, concatenate,Conv2D, MaxPool2D\n",
    "from keras import backend as K\n",
    "\n",
    "import numpy as np\n",
    "import tensorflow as tf\n",
    "import random\n",
    "import cv2\n",
    "import os\n",
    "from keras.callbacks import EarlyStopping,ModelCheckpoint\n",
    "from keras.layers import Input,Flatten,Dropout,Conv2D,MaxPooling2D,GlobalAveragePooling2D\n",
    "from keras.layers import Activation\n",
    "from tensorflow.keras.optimizers import Adam,RMSprop,SGD\n",
    "from keras.metrics import categorical_crossentropy\n",
    "from keras.layers import BatchNormalization\n",
    "from sklearn.metrics import confusion_matrix\n",
    "from keras.models import Model\n",
    "from keras import callbacks\n",
    "from keras.callbacks import TensorBoard\n",
    "from keras import regularizers\n",
    "import pickle\n",
    "from sklearn.preprocessing import LabelBinarizer\n",
    "from keras.preprocessing.image import ImageDataGenerator, array_to_img, img_to_array, load_img\n",
    "import time\n",
    "import matplotlib.pyplot as plt\n",
    "import keras\n",
    "import datetime\n"
   ]
  },
  {
   "cell_type": "code",
   "execution_count": 7,
   "id": "5c525165",
   "metadata": {},
   "outputs": [],
   "source": [
    "\n",
    "\n",
    "def inception_module(x,NF_Left, NF_Middle_1, NF_Middle_2, NF_right_2 ,name = None):\n",
    "    coV_1x1 = Conv2D(NF_Left, (1, 1), padding='same', activation='relu', name = name+'_left',use_bias=False)(x)\n",
    "    \n",
    "    coV_3x3 = Conv2D(NF_Middle_1, (1, 1), padding='same', activation='relu', name = name+'_middle_1',use_bias=False)(x)\n",
    "    coV_3x3 = Conv2D(NF_Middle_2, (3, 3), padding='same', activation='relu', name = name+'_middle_2',use_bias=False)(coV_3x3)\n",
    "    \n",
    "    coV_Max_3x3 = MaxPooling2D((3, 3), strides=(1, 1), padding='same', name = name+'_right_1')(x)\n",
    "    coV_Max_3x3 = Conv2D(NF_right_2, (1, 1), padding='same', activation='relu', name = name+'_right_2',use_bias=False)(coV_Max_3x3)\n",
    "    \n",
    "    output = concatenate([coV_1x1, coV_3x3, coV_Max_3x3], axis=3, name=name)\n",
    "    \n",
    "    return output\n"
   ]
  },
  {
   "cell_type": "code",
   "execution_count": 8,
   "id": "ad2e197b",
   "metadata": {
    "scrolled": false
   },
   "outputs": [
    {
     "name": "stdout",
     "output_type": "stream",
     "text": [
      "Model: \"model\"\n",
      "__________________________________________________________________________________________________\n",
      "Layer (type)                    Output Shape         Param #     Connected to                     \n",
      "==================================================================================================\n",
      "input_layer (InputLayer)        [(None, 32, 32, 3)]  0                                            \n",
      "__________________________________________________________________________________________________\n",
      "conv_1 (Conv2D)                 (None, 28, 28, 32)   2400        input_layer[0][0]                \n",
      "__________________________________________________________________________________________________\n",
      "module_1_middle_1 (Conv2D)      (None, 28, 28, 32)   1024        conv_1[0][0]                     \n",
      "__________________________________________________________________________________________________\n",
      "module_1_right_1 (MaxPooling2D) (None, 28, 28, 32)   0           conv_1[0][0]                     \n",
      "__________________________________________________________________________________________________\n",
      "module_1_left (Conv2D)          (None, 28, 28, 32)   1024        conv_1[0][0]                     \n",
      "__________________________________________________________________________________________________\n",
      "module_1_middle_2 (Conv2D)      (None, 28, 28, 64)   18432       module_1_middle_1[0][0]          \n",
      "__________________________________________________________________________________________________\n",
      "module_1_right_2 (Conv2D)       (None, 28, 28, 32)   1024        module_1_right_1[0][0]           \n",
      "__________________________________________________________________________________________________\n",
      "module_1 (Concatenate)          (None, 28, 28, 128)  0           module_1_left[0][0]              \n",
      "                                                                 module_1_middle_2[0][0]          \n",
      "                                                                 module_1_right_2[0][0]           \n",
      "__________________________________________________________________________________________________\n",
      "module_2_middle_1 (Conv2D)      (None, 28, 28, 64)   8192        module_1[0][0]                   \n",
      "__________________________________________________________________________________________________\n",
      "module_2_right_1 (MaxPooling2D) (None, 28, 28, 128)  0           module_1[0][0]                   \n",
      "__________________________________________________________________________________________________\n",
      "module_2_left (Conv2D)          (None, 28, 28, 64)   8192        module_1[0][0]                   \n",
      "__________________________________________________________________________________________________\n",
      "module_2_middle_2 (Conv2D)      (None, 28, 28, 128)  73728       module_2_middle_1[0][0]          \n",
      "__________________________________________________________________________________________________\n",
      "module_2_right_2 (Conv2D)       (None, 28, 28, 64)   8192        module_2_right_1[0][0]           \n",
      "__________________________________________________________________________________________________\n",
      "module_2 (Concatenate)          (None, 28, 28, 256)  0           module_2_left[0][0]              \n",
      "                                                                 module_2_middle_2[0][0]          \n",
      "                                                                 module_2_right_2[0][0]           \n",
      "__________________________________________________________________________________________________\n",
      "max_pooling2d (MaxPooling2D)    (None, 14, 14, 256)  0           module_2[0][0]                   \n",
      "__________________________________________________________________________________________________\n",
      "flatten (Flatten)               (None, 50176)        0           max_pooling2d[0][0]              \n",
      "__________________________________________________________________________________________________\n",
      "dense (Dense)                   (None, 256)          12845056    flatten[0][0]                    \n",
      "__________________________________________________________________________________________________\n",
      "dense_1 (Dense)                 (None, 10)           2560        dense[0][0]                      \n",
      "==================================================================================================\n",
      "Total params: 12,969,824\n",
      "Trainable params: 12,969,824\n",
      "Non-trainable params: 0\n",
      "__________________________________________________________________________________________________\n"
     ]
    }
   ],
   "source": [
    "input_layer = Input(shape = (32,32,3), name = 'input_layer')\n",
    "\n",
    "x = Conv2D(32, (5, 5), input_shape=(32, 32, 3), activation='relu',padding=\"valid\",strides=(1, 1), name = 'conv_1',use_bias=False)(input_layer)\n",
    "x = inception_module(x,NF_Left = 32, NF_Middle_1 = 32, NF_Middle_2 = 64, NF_right_2 = 32,name = 'module_1')\n",
    "x = inception_module(x,NF_Left = 64, NF_Middle_1 = 64, NF_Middle_2 = 128, NF_right_2 = 64,name = 'module_2')\n",
    "x = MaxPooling2D( pool_size=(2, 2), strides=(2, 2), padding=\"same\")(x)\n",
    "x = Flatten()(x)\n",
    "x = Dense(256,activation = 'relu',use_bias=False)(x)\n",
    "x = Dense(10,activation='softmax',use_bias=False)(x)\n",
    "model = Model(input_layer,x)\n",
    "model.summary()\n",
    "\n"
   ]
  },
  {
   "cell_type": "code",
   "execution_count": 15,
   "id": "7f69f842",
   "metadata": {},
   "outputs": [
    {
     "name": "stdout",
     "output_type": "stream",
     "text": [
      "Model: \"model_7\"\n",
      "_________________________________________________________________\n",
      "Layer (type)                 Output Shape              Param #   \n",
      "=================================================================\n",
      "input_layer (InputLayer)     [(None, 81, 81, 3)]       0         \n",
      "_________________________________________________________________\n",
      "conv_1 (Conv2D)              (None, 81, 81, 32)        2400      \n",
      "_________________________________________________________________\n",
      "conv_2 (Conv2D)              (None, 81, 81, 32)        50176     \n",
      "_________________________________________________________________\n",
      "max_pooling2d_8 (MaxPooling2 (None, 26, 26, 32)        0         \n",
      "_________________________________________________________________\n",
      "flatten_7 (Flatten)          (None, 21632)             0         \n",
      "_________________________________________________________________\n",
      "dense_7 (Dense)              (None, 10)                216320    \n",
      "=================================================================\n",
      "Total params: 268,896\n",
      "Trainable params: 268,896\n",
      "Non-trainable params: 0\n",
      "_________________________________________________________________\n"
     ]
    }
   ],
   "source": [
    "# output size, param # \n",
    "input_layer = Input(shape = (81,81,3), name = 'input_layer')\n",
    "\n",
    "x = Conv2D(32, (5, 5), input_shape=(81,81,3), activation='relu',padding=\"same\",strides=(1, 1), name = 'conv_1',use_bias=False)(input_layer)\n",
    "x = Conv2D(32, (7, 7), activation='relu',padding=\"same\",strides=(1, 1), name = 'conv_2',use_bias=False)(x)\n",
    "x = MaxPooling2D(pool_size=(4, 4), strides=(3, 3), padding=\"valid\")(x)\n",
    "x = Flatten()(x)\n",
    "x = Dense(10,activation = 'relu',use_bias=False)(x)\n",
    "# x = Dense(10,activation='softmax',use_bias=False)(x)\n",
    "model = Model(input_layer,x)\n",
    "model.summary()\n"
   ]
  },
  {
   "cell_type": "code",
   "execution_count": 3,
   "id": "b6b9c38c",
   "metadata": {},
   "outputs": [
    {
     "name": "stdout",
     "output_type": "stream",
     "text": [
      "265983168\n"
     ]
    }
   ],
   "source": [
    "n_mult_conv1 = 5808 * 214 * 214\n",
    "print(n_mult_conv1)\n"
   ]
  },
  {
   "cell_type": "code",
   "execution_count": 5,
   "id": "4a103ce6",
   "metadata": {},
   "outputs": [],
   "source": [
    "# Depthwise Separable Convolution\n",
    "def dep_sep_conv(input, n_filter, filter_size, stride):\n",
    "    \n",
    "    para_ds1 = 3 * 11 * 11\n",
    "    mult_ds1 = 3 * 11 * 11 * 214 * 214 \n",
    "    para_ds2 = 16 * 1 * 1 * 3 \n",
    "    mult_ds2 = 16 * 3 * 1 * 1 * 214 * 214 \n",
    "\n",
    "\n",
    "\n",
    "\n"
   ]
  },
  {
   "cell_type": "code",
   "execution_count": 6,
   "id": "19940f88",
   "metadata": {},
   "outputs": [
    {
     "name": "stdout",
     "output_type": "stream",
     "text": [
      "output size: 1\n",
      "1.0\n"
     ]
    }
   ],
   "source": [
    "import math\n",
    "\n",
    "input_size = 4.0\n",
    "kernel = 3.0\n",
    "stride = 2.0\n",
    "# no padding\n",
    "output_size = math.ceil((input_size - kernel + 1)/stride)\n",
    "print('output size: ' + str(output_size))\n",
    "print((input_size - kernel + 1)/stride)"
   ]
  },
  {
   "cell_type": "code",
   "execution_count": 7,
   "id": "fd9ab854",
   "metadata": {},
   "outputs": [
    {
     "name": "stdout",
     "output_type": "stream",
     "text": [
      "4\n",
      "5\n"
     ]
    }
   ],
   "source": [
    "#transpose conv output size\n",
    "#o = ceil((i - k + 1)/s), o=2, k =3, s = 2\n",
    "\n",
    "stride = 2\n",
    "H1 = 2\n",
    "HF = 3\n",
    "# Padding==Same:\n",
    "H = H1 * stride\n",
    "print(H)\n",
    "# Padding==Valid\n",
    "H = (H1-1) * stride + HF\n",
    "print(H)"
   ]
  },
  {
   "cell_type": "code",
   "execution_count": null,
   "id": "f3e25adc",
   "metadata": {},
   "outputs": [],
   "source": []
  }
 ],
 "metadata": {
  "kernelspec": {
   "display_name": "Python 3 (ipykernel)",
   "language": "python",
   "name": "python3"
  },
  "language_info": {
   "codemirror_mode": {
    "name": "ipython",
    "version": 3
   },
   "file_extension": ".py",
   "mimetype": "text/x-python",
   "name": "python",
   "nbconvert_exporter": "python",
   "pygments_lexer": "ipython3",
   "version": "3.8.11"
  }
 },
 "nbformat": 4,
 "nbformat_minor": 5
}
